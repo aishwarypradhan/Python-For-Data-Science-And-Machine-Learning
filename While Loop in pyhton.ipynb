{
 "cells": [
  {
   "cell_type": "markdown",
   "id": "6defe30f",
   "metadata": {},
   "source": [
    "# while loop"
   ]
  },
  {
   "cell_type": "markdown",
   "id": "228d4704",
   "metadata": {},
   "source": [
    "syntax of while loop will be"
   ]
  },
  {
   "cell_type": "raw",
   "id": "5a5e99d8",
   "metadata": {},
   "source": [
    "while cpondition:\n",
    "    code"
   ]
  },
  {
   "cell_type": "code",
   "execution_count": 1,
   "id": "d1cd7dd2",
   "metadata": {},
   "outputs": [
    {
     "name": "stdout",
     "output_type": "stream",
     "text": [
      "Please Enter a number to define a table4\n",
      "4 * 1 = 4\n",
      "4 * 2 = 8\n",
      "4 * 3 = 12\n",
      "4 * 4 = 16\n",
      "4 * 5 = 20\n",
      "4 * 6 = 24\n",
      "4 * 7 = 28\n",
      "4 * 8 = 32\n",
      "4 * 9 = 36\n",
      "4 * 10 = 40\n"
     ]
    }
   ],
   "source": [
    "number = int(input(\"Please Enter a number to define a table\"))\n",
    "x=1\n",
    "while x < 11:\n",
    "    y = number * x\n",
    "    print(number,'*',x,\"=\",y)\n",
    "    x+=1"
   ]
  },
  {
   "cell_type": "code",
   "execution_count": 2,
   "id": "c83f6e66",
   "metadata": {},
   "outputs": [],
   "source": [
    "def factorial(number):\n",
    "    x=1\n",
    "    while  number > 1:\n",
    "        x=x*number\n",
    "        number = number - 1\n",
    "    return x\n",
    "    "
   ]
  },
  {
   "cell_type": "code",
   "execution_count": 3,
   "id": "f2afe0a2",
   "metadata": {},
   "outputs": [
    {
     "name": "stdout",
     "output_type": "stream",
     "text": [
      "Please Enter a number to define the Factorial6\n",
      "The factorial of  6 Will be =  720\n"
     ]
    }
   ],
   "source": [
    "User=int(input(\"Please Enter a number to define the Factorial\"))\n",
    "factorial_result = factorial(User)\n",
    "print(\"The factorial of \",User,\"Will be = \",factorial_result)"
   ]
  },
  {
   "cell_type": "code",
   "execution_count": 4,
   "id": "f1ae587e",
   "metadata": {},
   "outputs": [],
   "source": [
    "import random"
   ]
  },
  {
   "cell_type": "code",
   "execution_count": 5,
   "id": "2981409f",
   "metadata": {},
   "outputs": [
    {
     "name": "stdout",
     "output_type": "stream",
     "text": [
      "Chalo Ek number Guess Karo45\n",
      "Please Guess Higher\n",
      "Challo a66e Se Guess karo56\n",
      "Please Guess Lower\n",
      "Challo a66e Se Guess karo60\n",
      "Please Guess Lower\n",
      "Challo a66e Se Guess karo58\n",
      "Please Guess Lower\n",
      "Challo a66e Se Guess karo59\n",
      "Please Guess Lower\n",
      "Challo a66e Se Guess karo57\n",
      "Please Guess Lower\n",
      "Challo a66e Se Guess karo56\n",
      "Please Guess Lower\n",
      "Challo a66e Se Guess karo55\n",
      "OHo You Won You Get a correct Answer\n",
      "You Took  8 attempt\n"
     ]
    }
   ],
   "source": [
    "jackpot = random.randint(1,100)\n",
    "user=int(input(\"Chalo Ek number Guess Karo\"))\n",
    "count = 1\n",
    "while jackpot != user:\n",
    "    if jackpot < user:\n",
    "        print(\"Please Guess Lower\")\n",
    "    else:\n",
    "        print(\"Please Guess Higher\")\n",
    "    user=int(input(\"Challo a66e Se Guess karo\"))\n",
    "    count += 1\n",
    "    \n",
    "print(\"OHo You Won You Get a correct Answer\")\n",
    "print(\"You Took \",count,\"attempt\")\n"
   ]
  },
  {
   "cell_type": "code",
   "execution_count": null,
   "id": "406ec458",
   "metadata": {},
   "outputs": [],
   "source": []
  },
  {
   "cell_type": "code",
   "execution_count": null,
   "id": "a289a2da",
   "metadata": {},
   "outputs": [],
   "source": []
  },
  {
   "cell_type": "code",
   "execution_count": null,
   "id": "d06f60e1",
   "metadata": {},
   "outputs": [],
   "source": []
  },
  {
   "cell_type": "code",
   "execution_count": null,
   "id": "bb9b3dd9",
   "metadata": {},
   "outputs": [],
   "source": []
  },
  {
   "cell_type": "code",
   "execution_count": null,
   "id": "95d0e9dc",
   "metadata": {},
   "outputs": [],
   "source": []
  },
  {
   "cell_type": "code",
   "execution_count": null,
   "id": "8ec4fb97",
   "metadata": {},
   "outputs": [],
   "source": []
  },
  {
   "cell_type": "code",
   "execution_count": null,
   "id": "a818da91",
   "metadata": {},
   "outputs": [],
   "source": []
  },
  {
   "cell_type": "code",
   "execution_count": null,
   "id": "ece94805",
   "metadata": {},
   "outputs": [],
   "source": []
  },
  {
   "cell_type": "code",
   "execution_count": null,
   "id": "4a1734dd",
   "metadata": {},
   "outputs": [],
   "source": []
  },
  {
   "cell_type": "code",
   "execution_count": null,
   "id": "fe43b30d",
   "metadata": {},
   "outputs": [],
   "source": []
  },
  {
   "cell_type": "code",
   "execution_count": null,
   "id": "0efd3411",
   "metadata": {},
   "outputs": [],
   "source": []
  },
  {
   "cell_type": "code",
   "execution_count": null,
   "id": "860af50f",
   "metadata": {},
   "outputs": [],
   "source": []
  },
  {
   "cell_type": "code",
   "execution_count": null,
   "id": "16489e06",
   "metadata": {},
   "outputs": [],
   "source": []
  },
  {
   "cell_type": "code",
   "execution_count": null,
   "id": "b7113e56",
   "metadata": {},
   "outputs": [],
   "source": []
  },
  {
   "cell_type": "code",
   "execution_count": null,
   "id": "1c0b6f54",
   "metadata": {},
   "outputs": [],
   "source": []
  },
  {
   "cell_type": "code",
   "execution_count": null,
   "id": "a327f1bd",
   "metadata": {},
   "outputs": [],
   "source": []
  },
  {
   "cell_type": "code",
   "execution_count": null,
   "id": "eb14e6c0",
   "metadata": {},
   "outputs": [],
   "source": []
  },
  {
   "cell_type": "code",
   "execution_count": null,
   "id": "64602478",
   "metadata": {},
   "outputs": [],
   "source": []
  },
  {
   "cell_type": "code",
   "execution_count": null,
   "id": "7ad60962",
   "metadata": {},
   "outputs": [],
   "source": []
  },
  {
   "cell_type": "code",
   "execution_count": null,
   "id": "cf76a856",
   "metadata": {},
   "outputs": [],
   "source": []
  },
  {
   "cell_type": "code",
   "execution_count": null,
   "id": "42f44342",
   "metadata": {},
   "outputs": [],
   "source": []
  },
  {
   "cell_type": "code",
   "execution_count": null,
   "id": "8d8ed588",
   "metadata": {},
   "outputs": [],
   "source": []
  },
  {
   "cell_type": "code",
   "execution_count": null,
   "id": "3a002345",
   "metadata": {},
   "outputs": [],
   "source": []
  },
  {
   "cell_type": "code",
   "execution_count": null,
   "id": "d481b130",
   "metadata": {},
   "outputs": [],
   "source": []
  },
  {
   "cell_type": "code",
   "execution_count": null,
   "id": "8e5a08e6",
   "metadata": {},
   "outputs": [],
   "source": []
  }
 ],
 "metadata": {
  "kernelspec": {
   "display_name": "Python 3 (ipykernel)",
   "language": "python",
   "name": "python3"
  },
  "language_info": {
   "codemirror_mode": {
    "name": "ipython",
    "version": 3
   },
   "file_extension": ".py",
   "mimetype": "text/x-python",
   "name": "python",
   "nbconvert_exporter": "python",
   "pygments_lexer": "ipython3",
   "version": "3.9.13"
  }
 },
 "nbformat": 4,
 "nbformat_minor": 5
}
