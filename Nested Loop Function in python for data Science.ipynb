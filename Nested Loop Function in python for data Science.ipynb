{
 "cells": [
  {
   "cell_type": "code",
   "execution_count": 19,
   "id": "3d1cacc8",
   "metadata": {},
   "outputs": [
    {
     "name": "stdout",
     "output_type": "stream",
     "text": [
      "Please Enter a rows what if you want8\n",
      "         \n",
      "        *\n",
      "       **\n",
      "      ***\n",
      "     ****\n",
      "    *****\n",
      "   ******\n",
      "  *******\n",
      " ********\n"
     ]
    }
   ],
   "source": [
    "rows=int(input(\"Please Enter a rows what if you want\"))\n",
    "for i in range(0,rows+1):\n",
    "    for k in range(i,rows+1):\n",
    "        print('',end=\" \")\n",
    "                   \n",
    "    for j in range(i): \n",
    "        print(\"*\",end='')\n",
    "    print()"
   ]
  },
  {
   "cell_type": "code",
   "execution_count": 20,
   "id": "3e95e75b",
   "metadata": {},
   "outputs": [
    {
     "name": "stdout",
     "output_type": "stream",
     "text": [
      "Please Enter a rows what if you want8\n",
      "********\n",
      "*******\n",
      "******\n",
      "*****\n",
      "****\n",
      "***\n",
      "**\n",
      "*\n"
     ]
    }
   ],
   "source": [
    "rows=int(input(\"Please Enter a rows what if you want\"))\n",
    "for i in range(rows,0,-1):\n",
    "    for j in range(i):\n",
    "        print(\"*\",end=\"\")\n",
    "    print(\"\")"
   ]
  },
  {
   "cell_type": "code",
   "execution_count": 22,
   "id": "ae1f3182",
   "metadata": {},
   "outputs": [
    {
     "name": "stdout",
     "output_type": "stream",
     "text": [
      "please enter a number9\n",
      "*               * \n",
      "  *           *   \n",
      "    *       *     \n",
      "      *   *       \n",
      "        *         \n",
      "      *   *       \n",
      "    *       *     \n",
      "  *           *   \n",
      "*               * \n"
     ]
    }
   ],
   "source": [
    "size = int(input(\"please enter a number\"))  # Define the size of the pattern\n",
    "\n",
    "# Outer loop for rows\n",
    "for i in range(0,size):\n",
    "    # Inner loop for columns\n",
    "    for j in range(0,size):\n",
    "        if i == j or i + j == size-1:\n",
    "            print('*', end=' ')  # Print '*' when i equals j or i + j equals size - 1\n",
    "        else:\n",
    "            print(' ', end=' ')  # Print a space for other positions\n",
    "    print()  # Move to the next line after each row\n"
   ]
  },
  {
   "cell_type": "code",
   "execution_count": 23,
   "id": "cc59de9d",
   "metadata": {},
   "outputs": [
    {
     "data": {
      "text/plain": [
       "[10, 9, 8, 7, 6, 5, 4, 3, 2, 1]"
      ]
     },
     "execution_count": 23,
     "metadata": {},
     "output_type": "execute_result"
    }
   ],
   "source": [
    "list(range(10,0,-1))"
   ]
  },
  {
   "cell_type": "code",
   "execution_count": 24,
   "id": "8c71005a",
   "metadata": {},
   "outputs": [
    {
     "name": "stdout",
     "output_type": "stream",
     "text": [
      "please enter a number8\n",
      "* *             \n",
      "  * *           \n",
      "    * *         \n",
      "      * *       \n",
      "        * *     \n",
      "          * *   \n",
      "            * * \n",
      "              * \n"
     ]
    }
   ],
   "source": [
    "size = int(input(\"please enter a number\"))  # Define the size of the pattern\n",
    "\n",
    "# Outer loop for rows\n",
    "for i in range(size,0,-1):\n",
    "    # Inner loop for columns\n",
    "    for j in range(size,0,-1):\n",
    "        if i == j or i -1 == j:\n",
    "            print('*', end=' ')  # Print '*' when i equals j or i + j equals size - 1\n",
    "        else:\n",
    "            print(' ', end=' ')  # Print a space for other positions\n",
    "    print()  # Move to the next line after each row\n"
   ]
  },
  {
   "cell_type": "code",
   "execution_count": 25,
   "id": "4ab3f9e2",
   "metadata": {},
   "outputs": [
    {
     "name": "stdout",
     "output_type": "stream",
     "text": [
      "*\n",
      "**\n",
      "***\n",
      "****\n",
      "*****\n",
      "******\n",
      "*******\n",
      "********\n"
     ]
    }
   ],
   "source": [
    "def print_triangle(height):\n",
    "    for i in range(1, height + 1):\n",
    "        print('*' * i)\n",
    "\n",
    "# Example usage\n",
    "triangle_height = 8\n",
    "print_triangle(triangle_height)"
   ]
  },
  {
   "cell_type": "code",
   "execution_count": 26,
   "id": "00e6866e",
   "metadata": {},
   "outputs": [
    {
     "name": "stdout",
     "output_type": "stream",
     "text": [
      "     *     \n",
      "  *******  \n",
      " ********* \n",
      " ********* \n",
      " ********* \n",
      "***********\n",
      " ********* \n",
      " ********* \n",
      " ********* \n",
      "  *******  \n",
      "     *     \n"
     ]
    }
   ],
   "source": [
    "import math\n",
    "\n",
    "def print_circle_pattern(radius):\n",
    "    for i in range(-radius, radius+1):\n",
    "        for j in range(-radius, radius+1):\n",
    "            distance = math.sqrt(i**2 + j**2)\n",
    "            if distance <= radius:\n",
    "                print('*', end='')\n",
    "            else:\n",
    "                print(' ', end='')\n",
    "        print()\n",
    "\n",
    "# Example usage\n",
    "circle_radius = 5\n",
    "print_circle_pattern(circle_radius)"
   ]
  },
  {
   "cell_type": "code",
   "execution_count": 27,
   "id": "49844d4f",
   "metadata": {},
   "outputs": [
    {
     "name": "stdout",
     "output_type": "stream",
     "text": [
      "      *\n",
      "     ***\n",
      "    *****\n",
      "   *******\n",
      "  *********\n",
      " ***********\n",
      "*************\n"
     ]
    }
   ],
   "source": [
    "def print_pyramid_pattern(height):\n",
    "    for i in range(height):\n",
    "        print(' ' * (height - i - 1) + '*' * (2 * i + 1))\n",
    "\n",
    "# Example usage\n",
    "pyramid_height = 7\n",
    "print_pyramid_pattern(pyramid_height)\n"
   ]
  },
  {
   "cell_type": "code",
   "execution_count": 28,
   "id": "3a5af90e",
   "metadata": {},
   "outputs": [
    {
     "name": "stdout",
     "output_type": "stream",
     "text": [
      "        *\n",
      "       ***\n",
      "      *****\n",
      "     *******\n",
      "    *********\n",
      "   ***********\n",
      "  *************\n"
     ]
    }
   ],
   "source": [
    "a=7\n",
    "for i in range(0,a):\n",
    "    for j in range(i,a+1):\n",
    "        print(end=' ')\n",
    "    for k in range(2*i+1):\n",
    "        print(\"*\",end='')\n",
    "    print(\"\")"
   ]
  },
  {
   "cell_type": "code",
   "execution_count": 29,
   "id": "1f1c5a27",
   "metadata": {},
   "outputs": [
    {
     "name": "stdout",
     "output_type": "stream",
     "text": [
      "*************\n",
      " ***********\n",
      "  *********\n",
      "   *******\n",
      "    *****\n",
      "     ***\n",
      "      *\n"
     ]
    }
   ],
   "source": [
    "a=7\n",
    "for i in range(a,0,-1):\n",
    "    for k in range(a,i,-1):\n",
    "        print(end=' ')\n",
    "    for j in range(2*i-1):\n",
    "        print(\"*\",end='')\n",
    "    print(\"\")"
   ]
  },
  {
   "cell_type": "code",
   "execution_count": 30,
   "id": "f9997204",
   "metadata": {},
   "outputs": [
    {
     "name": "stdout",
     "output_type": "stream",
     "text": [
      "please enter a number7\n",
      "*           * \n",
      "  *       *   \n",
      "    *   *     \n",
      "      *       \n",
      "    *   *     \n",
      "  *       *   \n",
      "*           * \n"
     ]
    }
   ],
   "source": [
    "size = int(input(\"please enter a number\"))  # Define the size of the pattern\n",
    "\n",
    "# Outer loop for rows\n",
    "for i in range(0,size):\n",
    "    # Inner loop for columns\n",
    "    for j in range(0,size):\n",
    "        if i == j or i + j == size-1:\n",
    "            print('*', end=' ')  # Print '*' when i equals j or i + j equals size - 1\n",
    "        else:\n",
    "            print(' ', end=' ')  # Print a space for other positions\n",
    "    print()  # Move to the next line after each row\n"
   ]
  },
  {
   "cell_type": "code",
   "execution_count": 31,
   "id": "f212b824",
   "metadata": {},
   "outputs": [
    {
     "name": "stdout",
     "output_type": "stream",
     "text": [
      "Please Enter a number What you want8\n",
      "************* \n",
      " *********** \n",
      "  ********* \n",
      "   ******* \n",
      "    ***** \n",
      "     *** \n",
      "      * \n",
      "          \n",
      "        * \n",
      "       *** \n",
      "      ***** \n",
      "     ******* \n",
      "    ********* \n",
      "   *********** \n",
      "  ************* \n",
      " *************** \n"
     ]
    }
   ],
   "source": [
    "user=int(input(\"Please Enter a number What you want\"))\n",
    "# Here I will run a code for Rows....\n",
    "for i in range(a,0,-1):\n",
    "    for k in range(a,i,-1):\n",
    "        print(end=' ')\n",
    "    for j in range(2*i-1):\n",
    "        print(\"*\",end='')\n",
    "    print(\" \")\n",
    "for i in range(0,user+1):\n",
    "    for j in range(i,user+1):\n",
    "        print(\"\",end=\" \")\n",
    "    for k in range(2*i-1):\n",
    "        print(\"*\",end=\"\")\n",
    "    print(\" \")\n",
    "    \n",
    "    "
   ]
  },
  {
   "cell_type": "code",
   "execution_count": 32,
   "id": "e248a953",
   "metadata": {},
   "outputs": [
    {
     "name": "stdout",
     "output_type": "stream",
     "text": [
      "Please enter a number 8\n",
      "       1\n",
      "      121\n",
      "     12321\n",
      "    1234321\n",
      "   123454321\n",
      "  12345654321\n",
      " 1234567654321\n",
      "123456787654321\n"
     ]
    }
   ],
   "source": [
    "# Set the number of rows in the pattern\n",
    "num_rows = int(input(\"Please enter a number \"))\n",
    "\n",
    "# Loop to draw the pattern\n",
    "for i in range(1, num_rows + 1):\n",
    "    # Print spaces before the pattern\n",
    "    for j in range(num_rows - i):\n",
    "        print(\"\", end=\" \")\n",
    "    \n",
    "    # Print numbers in ascending order\n",
    "    for k in range(1, i + 1):\n",
    "        print(k, end=\"\")\n",
    "    \n",
    "    # Print numbers in descending order\n",
    "    for l in range(i - 1, 0, -1):\n",
    "        print(l, end=\"\")\n",
    "    \n",
    "    # Move to the next line\n",
    "    print()\n"
   ]
  },
  {
   "cell_type": "code",
   "execution_count": 35,
   "id": "d37d8248",
   "metadata": {},
   "outputs": [
    {
     "name": "stdout",
     "output_type": "stream",
     "text": [
      "Please enter a number 9\n",
      "        1\n",
      "       121\n",
      "      12321\n",
      "     1234321\n",
      "    123454321\n",
      "   12345654321\n",
      "  1234567654321\n",
      " 123456787654321\n",
      "12345678987654321\n"
     ]
    }
   ],
   "source": [
    "# Set the number of rows in the pattern\n",
    "num_rows = int(input(\"Please enter a number \"))\n",
    "for i in range(1,num_rows+1):\n",
    "    # print Space Before the Pattrn...\n",
    "    for j in range(num_rows-i):\n",
    "        print(\"\",end=' ')\n",
    "    # print  number ascending Order\n",
    "    for l in range(1,i+1):\n",
    "        print(l,end=\"\")\n",
    "    # print number descending Order\n",
    "    for k in range(i-1,0,-1):\n",
    "        print(k,end=\"\")\n",
    "    print()      "
   ]
  },
  {
   "cell_type": "code",
   "execution_count": 49,
   "id": "1c0954c6",
   "metadata": {},
   "outputs": [],
   "source": [
    "# Set the number of rows in the pattern\n",
    "num_rows = int(input(\"Please enter a number \"))\n",
    "for i in range(1,num_rows+1):\n",
    "    # print Space Before the Pattrn...\n",
    "    for j in range(num_rows-i):\n",
    "        print(\"\",end=' ')\n",
    "    # print  number ascending Order\n",
    "    for l in range(1,i+1):\n",
    "        print(l,end=\"\")\n",
    "    # print number descending Order\n",
    "    for k in range(i-1,0,-1):\n",
    "        print(k,end=\"\")\n",
    "    print() "
   ]
  },
  {
   "cell_type": "code",
   "execution_count": null,
   "id": "16626568",
   "metadata": {},
   "outputs": [],
   "source": []
  },
  {
   "cell_type": "code",
   "execution_count": null,
   "id": "477bcf94",
   "metadata": {},
   "outputs": [],
   "source": []
  },
  {
   "cell_type": "code",
   "execution_count": null,
   "id": "31b81827",
   "metadata": {},
   "outputs": [],
   "source": []
  },
  {
   "cell_type": "code",
   "execution_count": null,
   "id": "d2939863",
   "metadata": {},
   "outputs": [],
   "source": []
  },
  {
   "cell_type": "code",
   "execution_count": null,
   "id": "4f4cb7ed",
   "metadata": {},
   "outputs": [],
   "source": []
  },
  {
   "cell_type": "code",
   "execution_count": null,
   "id": "be2cbc1d",
   "metadata": {},
   "outputs": [],
   "source": []
  }
 ],
 "metadata": {
  "kernelspec": {
   "display_name": "Python 3 (ipykernel)",
   "language": "python",
   "name": "python3"
  },
  "language_info": {
   "codemirror_mode": {
    "name": "ipython",
    "version": 3
   },
   "file_extension": ".py",
   "mimetype": "text/x-python",
   "name": "python",
   "nbconvert_exporter": "python",
   "pygments_lexer": "ipython3",
   "version": "3.9.13"
  }
 },
 "nbformat": 4,
 "nbformat_minor": 5
}
