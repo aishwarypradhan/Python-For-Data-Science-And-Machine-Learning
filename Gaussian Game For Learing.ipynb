{
 "cells": [
  {
   "cell_type": "code",
   "execution_count": 1,
   "id": "c3021a9f",
   "metadata": {},
   "outputs": [],
   "source": [
    "import random"
   ]
  },
  {
   "cell_type": "code",
   "execution_count": 2,
   "id": "6dce2eeb",
   "metadata": {},
   "outputs": [
    {
     "name": "stdout",
     "output_type": "stream",
     "text": [
      "Chalo Ek number Guess Karo67\n",
      "Please Guess Lower\n",
      "Challo a66e Se Guess karo50\n",
      "Please Guess Lower\n",
      "Challo a66e Se Guess karo30\n",
      "Please Guess Higher\n",
      "Challo a66e Se Guess karo40\n",
      "Please Guess Higher\n",
      "Challo a66e Se Guess karo45\n",
      "Please Guess Higher\n",
      "Challo a66e Se Guess karo47\n",
      "OHo You Won You Get a correct Answer\n",
      "You Took  6 attempt\n"
     ]
    }
   ],
   "source": [
    "jackpot = random.randint(1,100)\n",
    "user=int(input(\"Chalo Ek number Guess Karo\"))\n",
    "count = 1\n",
    "while jackpot != user:\n",
    "    if jackpot < user:\n",
    "        print(\"Please Guess Lower\")\n",
    "    else:\n",
    "        print(\"Please Guess Higher\")\n",
    "    user=int(input(\"Challo a66e Se Guess karo\"))\n",
    "    count += 1\n",
    "    \n",
    "print(\"OHo You Won You Get a correct Answer\")\n",
    "print(\"You Took \",count,\"attempt\")"
   ]
  },
  {
   "cell_type": "code",
   "execution_count": null,
   "id": "744446e7",
   "metadata": {},
   "outputs": [],
   "source": []
  }
 ],
 "metadata": {
  "kernelspec": {
   "display_name": "Python 3 (ipykernel)",
   "language": "python",
   "name": "python3"
  },
  "language_info": {
   "codemirror_mode": {
    "name": "ipython",
    "version": 3
   },
   "file_extension": ".py",
   "mimetype": "text/x-python",
   "name": "python",
   "nbconvert_exporter": "python",
   "pygments_lexer": "ipython3",
   "version": "3.9.13"
  }
 },
 "nbformat": 4,
 "nbformat_minor": 5
}
