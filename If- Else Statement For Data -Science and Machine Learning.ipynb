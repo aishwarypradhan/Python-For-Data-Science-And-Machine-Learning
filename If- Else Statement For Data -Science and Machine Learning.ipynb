{
 "cells": [
  {
   "cell_type": "code",
   "execution_count": 19,
   "id": "7d10c634",
   "metadata": {},
   "outputs": [
    {
     "name": "stdout",
     "output_type": "stream",
     "text": [
      "Please Enter Your Email aishwaryapradhan004@gmail.com\n",
      "Please Enter Your Password 787878\n",
      "Please Enter a Valid Password\n",
      "Please Enter a valid Password 7847123\n",
      "Welcome To a metaverse Duniya Thanks to login to this word\n"
     ]
    }
   ],
   "source": [
    "# Right email = aishwaryapradhan004@gmail.com\n",
    "# password = 7847123\n",
    "\n",
    "email=input(\"Please Enter Your Email \")\n",
    "if \"@\" in email:\n",
    "    password = input(\"Please Enter Your Password \") \n",
    "    \n",
    "    \n",
    "    if email==\"aishwaryapradhan004@gmail.com\" and password == \"7847123\":\n",
    "        print(\"Welcome To a metaverse Duniya Thanks to login to this word\")\n",
    "    elif email==\"aishwaryapradhan004@gmail.com\" and password != \"7847123\":\n",
    "        print(\"Please Enter a Valid Password\")\n",
    "        password = input(\"Please Enter a valid Password \")\n",
    "        if password == \"7847123\":\n",
    "            print(\"Welcome To a metaverse Duniya Thanks to login to this word\")\n",
    "        else:\n",
    "            print(\"Still You Entered a invalid Password \")\n",
    "            print(\"This is last time To entering a password\")\n",
    "            password=input(\"Please Enter valid password Last Time\")\n",
    "            if password == \"7847123\":\n",
    "                print(\"Welcome To a metaverse Duniya Thanks to login to this word\")\n",
    "            else:\n",
    "                print(\"Still You Did Not Enter a Valid Password\")\n",
    "                print(\"Wait a 10 minute to  login Again \")\n",
    "                print('Thanks')\n",
    "            \n",
    "    else:\n",
    "        print(\"Please Enter a correct Email and Password\")\n",
    "else:\n",
    "    print(\"Please Enter a Valid Email with @ ---> thanks\")"
   ]
  },
  {
   "cell_type": "code",
   "execution_count": null,
   "id": "4fdbd29a",
   "metadata": {},
   "outputs": [],
   "source": []
  },
  {
   "cell_type": "code",
   "execution_count": null,
   "id": "72e81ab3",
   "metadata": {},
   "outputs": [],
   "source": []
  }
 ],
 "metadata": {
  "kernelspec": {
   "display_name": "Python 3 (ipykernel)",
   "language": "python",
   "name": "python3"
  },
  "language_info": {
   "codemirror_mode": {
    "name": "ipython",
    "version": 3
   },
   "file_extension": ".py",
   "mimetype": "text/x-python",
   "name": "python",
   "nbconvert_exporter": "python",
   "pygments_lexer": "ipython3",
   "version": "3.9.13"
  }
 },
 "nbformat": 4,
 "nbformat_minor": 5
}
