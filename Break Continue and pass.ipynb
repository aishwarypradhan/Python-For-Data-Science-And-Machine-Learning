{
 "cells": [
  {
   "cell_type": "code",
   "execution_count": 1,
   "id": "a4c87c79",
   "metadata": {},
   "outputs": [
    {
     "name": "stdout",
     "output_type": "stream",
     "text": [
      "1\n",
      "2\n",
      "3\n",
      "4\n"
     ]
    }
   ],
   "source": [
    "for i in range(1,12):\n",
    "    if i==5:\n",
    "        break\n",
    "    print(i)"
   ]
  },
  {
   "cell_type": "markdown",
   "id": "cce79eb4",
   "metadata": {},
   "source": [
    "# Expalin The Code"
   ]
  },
  {
   "cell_type": "code",
   "execution_count": 2,
   "id": "73489057",
   "metadata": {},
   "outputs": [],
   "source": [
    "# for i in range(1, 12):\n",
    "# This line initiates a for loop that iterates over a range of numbers from 1 to 11 (inclusive). The range() function generates a sequence of numbers starting from the first argument (1 in this case) and ending at the second argument (12 is not included).\n",
    "\n",
    "#     if i == 5:\n",
    "#         break\n",
    "# Inside the loop, there's an if statement that checks if the current value of i is equal to 5. If it is, the break statement is executed, which terminates the loop prematurely.\n",
    "\n",
    "#     print(i)\n",
    "# If the if condition is not met (i.e., i is not equal to 5), the code proceeds to this line and prints the value of i.\n",
    "\n",
    "# The output displayed in the STDOUT (standard output) is:\n",
    "\n",
    "# 1\n",
    "# 2\n",
    "# 3\n",
    "# 4\n",
    "# This happens because the loop starts from 1"
   ]
  },
  {
   "cell_type": "markdown",
   "id": "2bce9b11",
   "metadata": {},
   "source": [
    "# Continue Staement"
   ]
  },
  {
   "cell_type": "code",
   "execution_count": 4,
   "id": "516fe413",
   "metadata": {},
   "outputs": [
    {
     "name": "stdout",
     "output_type": "stream",
     "text": [
      "1\n",
      "Aishwary Pradhan\n",
      "2\n",
      "Aishwary Pradhan\n",
      "3\n",
      "Aishwary Pradhan\n",
      "4\n",
      "Aishwary Pradhan\n",
      "5\n",
      "Aishwary Pradhan\n",
      "7\n",
      "Aishwary Pradhan\n",
      "8\n",
      "Aishwary Pradhan\n",
      "9\n",
      "Aishwary Pradhan\n",
      "10\n",
      "Aishwary Pradhan\n"
     ]
    }
   ],
   "source": [
    "for i in range(1,11):\n",
    "    if i == 6:\n",
    "        continue\n",
    "    print(i)\n",
    "    print('Aishwary Pradhan')"
   ]
  },
  {
   "cell_type": "markdown",
   "id": "1255f05a",
   "metadata": {},
   "source": [
    "# Explanation The Code "
   ]
  },
  {
   "cell_type": "code",
   "execution_count": 5,
   "id": "7f260a3c",
   "metadata": {},
   "outputs": [],
   "source": [
    "# The code you provided demonstrates the use of a for loop and conditional statements. Let's break it down line by line:\n",
    "\n",
    "# for i in range(1,11):\n",
    "# This line initiates a for loop that iterates over a range of numbers from 1 to 10 (inclusive). The range() function\n",
    "# generates a sequence of \n",
    "# numbers starting from the first argument (1 in this case) and ending at the second argument (11 is not included).\n",
    "\n",
    "#     if i == 6:\n",
    "#         continue\n",
    "# Inside the loop, there's an if statement that checks if the current value of i is equal to 6. If it is,\n",
    "# the continue statement is executed. This causes the loop to skip the rest of the code within the loop for \n",
    "# that iteration and move on to the next iteration.\n",
    "\n",
    "#     print(i)\n",
    "#     print('Aishwary Pradhan')"
   ]
  },
  {
   "cell_type": "markdown",
   "id": "5109e96b",
   "metadata": {},
   "source": [
    "# Pass Staement"
   ]
  },
  {
   "cell_type": "code",
   "execution_count": 7,
   "id": "d8c87022",
   "metadata": {},
   "outputs": [],
   "source": [
    "for i in range(1,11):\n",
    "    pass"
   ]
  },
  {
   "cell_type": "code",
   "execution_count": null,
   "id": "20344d46",
   "metadata": {},
   "outputs": [],
   "source": []
  }
 ],
 "metadata": {
  "kernelspec": {
   "display_name": "Python 3 (ipykernel)",
   "language": "python",
   "name": "python3"
  },
  "language_info": {
   "codemirror_mode": {
    "name": "ipython",
    "version": 3
   },
   "file_extension": ".py",
   "mimetype": "text/x-python",
   "name": "python",
   "nbconvert_exporter": "python",
   "pygments_lexer": "ipython3",
   "version": "3.9.13"
  }
 },
 "nbformat": 4,
 "nbformat_minor": 5
}
